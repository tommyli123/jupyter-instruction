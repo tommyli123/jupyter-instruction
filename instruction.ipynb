{
 "cells": [
  {
   "cell_type": "markdown",
   "id": "30a98cb5",
   "metadata": {},
   "source": [
    "# Windows setup\n",
    "## Python3\n",
    "- installation https://www.python.org/downloads/release/python-3105/\n",
    "- open a CMD terminal, run python REPL and then exit\n",
    "\n",
    "## git bash\n",
    "- install git bash https://git-scm.com/download/win\n",
    "- this is for terminal usage, using linux like commands\n",
    "\n",
    "## Visual Studio Code\n",
    "- installation https://code.visualstudio.com/download\n",
    "\n",
    "\n",
    "## create learning project\n",
    "```\n",
    "mkdir python-learn\n",
    "```\n",
    "## open project in VS code\n",
    "```\n",
    "code python-learn\n",
    "```\n",
    "- create file `requirements.txt`, input following and save\n",
    "```\n",
    "jupyter\n",
    "```\n",
    " \n",
    "## open git bash, create python virtual environment\n",
    "- Steps : Windows-key > type 'git' > click to open git bash\n",
    "- in the git bash terminal\n",
    "```\n",
    "cd ~/python-learn\n",
    "# create virtual environment\n",
    "python -m venv venv\n",
    "# activate the virtual environment\n",
    "source venv/Script/activate\n",
    "# it should show (venv)\n",
    "# install the required modules\n",
    "pip install -r requirements.txt\n",
    "# run jupyter notebook\n",
    "jupyter notebook\n",
    "\n",
    "```\n",
    "## use browser to start working in Jupyter notebook\n",
    "\n"
   ]
  },
  {
   "cell_type": "code",
   "execution_count": null,
   "id": "53ab6a4a",
   "metadata": {},
   "outputs": [],
   "source": []
  }
 ],
 "metadata": {
  "kernelspec": {
   "display_name": "Python 3 (ipykernel)",
   "language": "python",
   "name": "python3"
  },
  "language_info": {
   "codemirror_mode": {
    "name": "ipython",
    "version": 3
   },
   "file_extension": ".py",
   "mimetype": "text/x-python",
   "name": "python",
   "nbconvert_exporter": "python",
   "pygments_lexer": "ipython3",
   "version": "3.10.5"
  }
 },
 "nbformat": 4,
 "nbformat_minor": 5
}
